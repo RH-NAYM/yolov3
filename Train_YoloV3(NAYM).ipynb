{
 "cells": [
  {
   "cell_type": "code",
   "execution_count": 0,
   "metadata": {
    "colab": {},
    "colab_type": "code",
    "id": "bwp6NIrsZZFP"
   },
   "outputs": [],
   "source": [
    "!nvidia-smi\n",
    "print('GPU Activated')"
   ]
  },
  {
   "cell_type": "code",
   "execution_count": 0,
   "metadata": {
    "colab": {},
    "colab_type": "code",
    "id": "9e9ZW3sqMEPO"
   },
   "outputs": [],
   "source": [
    "from google.colab import drive\n",
    "drive.mount('/content/gdrive')\n",
    "!ln -s /content/gdrive/My\\ Drive/ /mydrive\n",
    "!ls /mydrive\n",
    "print('Drive is ready to use')"
   ]
  },
  {
   "cell_type": "code",
   "execution_count": 0,
   "metadata": {
    "colab": {},
    "colab_type": "code",
    "id": "e03U7Zi-qMr2"
   },
   "outputs": [],
   "source": [
    "!git clone https://github.com/AlexeyAB/darknet\n",
    "    print('Darknet is active now')"
   ]
  },
  {
   "cell_type": "code",
   "execution_count": 0,
   "metadata": {
    "colab": {},
    "colab_type": "code",
    "id": "7hzfEWSuONhz"
   },
   "outputs": [],
   "source": [
    "%cd darknet\n",
    "!sed -i 's/OPENCV=0/OPENCV=1/' Makefile\n",
    "!sed -i 's/GPU=0/GPU=1/' Makefile\n",
    "!sed -i 's/CUDNN=0/CUDNN=1/' Makefile\n",
    "print('Now the environment has the (opencv,GPU,CUDNN)')"
   ]
  },
  {
   "cell_type": "code",
   "execution_count": 0,
   "metadata": {
    "colab": {},
    "colab_type": "code",
    "id": "EBBokOq5OOA5"
   },
   "outputs": [],
   "source": [
    "!make\n",
    "print('All complied')"
   ]
  },
  {
   "cell_type": "code",
   "execution_count": 0,
   "metadata": {
    "colab": {},
    "colab_type": "code",
    "id": "s-RpscgU853t"
   },
   "outputs": [],
   "source": [
    "!cp cfg/yolov3.cfg cfg/yolov3_training.cfg\n",
    "print('Copy of the cfg file is done')"
   ]
  },
  {
   "cell_type": "code",
   "execution_count": 0,
   "metadata": {
    "colab": {},
    "colab_type": "code",
    "id": "5ZgVQRop_vwR"
   },
   "outputs": [],
   "source": [
    "#This edit is for classes=2\n",
    "!sed -i 's/batch=1/batch=64/' cfg/yolov3_training.cfg\n",
    "!sed -i 's/subdivisions=1/subdivisions=16/' cfg/yolov3_training.cfg\n",
    "!sed -i 's/max_batches = 500200/max_batches = 4000/' cfg/yolov3_training.cfg\n",
    "!sed -i '610 s@classes=80@classes=2@' cfg/yolov3_training.cfg\n",
    "!sed -i '696 s@classes=80@classes=2@' cfg/yolov3_training.cfg\n",
    "!sed -i '783 s@classes=80@classes=2@' cfg/yolov3_training.cfg\n",
    "!sed -i '603 s@filters=255@filters=21@' cfg/yolov3_training.cfg\n",
    "!sed -i '689 s@filters=255@filters=21@' cfg/yolov3_training.cfg\n",
    "!sed -i '776 s@filters=255@filters=21@' cfg/yolov3_training.cfg\n",
    "print('Edit completed')"
   ]
  },
  {
   "cell_type": "code",
   "execution_count": 0,
   "metadata": {
    "colab": {},
    "colab_type": "code",
    "id": "7AIBw_psIclz"
   },
   "outputs": [],
   "source": [
    "!echo -e 'Car\\nCollision' > data/obj.names\n",
    "!echo -e 'classes= 2\\ntrain  = data/train.txt\\nvalid  = data/test.txt\\nnames = data/obj.names\\nbackup = /mydrive/yolov3' > data/obj.data\n",
    "print('All files created successfully')"
   ]
  },
  {
   "cell_type": "code",
   "execution_count": 0,
   "metadata": {
    "colab": {},
    "colab_type": "code",
    "id": "67o96gV7L0Uv"
   },
   "outputs": [],
   "source": [
    "!cp cfg/yolov3_training.cfg /mydrive/yolov3/yolov3_testing.cfg\n",
    "!cp data/obj.names /mydrive/yolov3/classes.txt\n",
    "print('Copy completed')"
   ]
  },
  {
   "cell_type": "code",
   "execution_count": 0,
   "metadata": {
    "colab": {},
    "colab_type": "code",
    "id": "eZlkzFMW7I_N"
   },
   "outputs": [],
   "source": [
    "!mkdir data/obj\n",
    "!unzip /mydrive/yolov3/images.zip -d data/obj\n",
    "print('Folder created and files unzipped')"
   ]
  },
  {
   "cell_type": "code",
   "execution_count": 0,
   "metadata": {
    "colab": {},
    "colab_type": "code",
    "id": "DGUyXxeYX0IP"
   },
   "outputs": [],
   "source": [
    "import glob\n",
    "images_list = glob.glob(\"data/obj/*.jpg\")\n",
    "with open(\"data/train.txt\", \"w\") as f:\n",
    "    f.write(\"\\n\".join(images_list))\n",
    "    print('All ok')"
   ]
  },
  {
   "cell_type": "code",
   "execution_count": 0,
   "metadata": {
    "colab": {},
    "colab_type": "code",
    "id": "jhb5nZvsQ_96"
   },
   "outputs": [],
   "source": [
    "!wget https://pjreddie.com/media/files/darknet53.conv.74\n",
    "    print('Weights file is ready to use')"
   ]
  },
  {
   "cell_type": "code",
   "execution_count": 0,
   "metadata": {
    "colab": {},
    "colab_type": "code",
    "id": "S3_g3jclUzMm"
   },
   "outputs": [],
   "source": [
    "#START TRAINING\n",
    "!./darknet detector train data/obj.data cfg/yolov3_training.cfg darknet53.conv.74 -dont_show\n",
    "# Uncomment below and comment above to re-start your training from last saved weights\n",
    "#!./darknet detector train data/obj.data cfg/yolov3_training.cfg /mydrive/yolov3/yolov3_training_last.weights -dont_show\n",
    "print('TRAINING COMPLETE')"
   ]
  },
  {
   "cell_type": "code",
   "execution_count": null,
   "metadata": {},
   "outputs": [],
   "source": [
    "function ClickConnect(){\n",
    "console.log(\"Working\"); \n",
    "document.querySelector(\"colab-toolbar-button#connect\").click() \n",
    "}\n",
    "setInterval(ClickConnect,60000)"
   ]
  }
 ],
 "metadata": {
  "accelerator": "GPU",
  "colab": {
   "collapsed_sections": [],
   "name": "Train_YoloV3_Multiple.ipynb",
   "provenance": []
  },
  "kernelspec": {
   "display_name": "Python 3",
   "language": "python",
   "name": "python3"
  },
  "language_info": {
   "codemirror_mode": {
    "name": "ipython",
    "version": 3
   },
   "file_extension": ".py",
   "mimetype": "text/x-python",
   "name": "python",
   "nbconvert_exporter": "python",
   "pygments_lexer": "ipython3",
   "version": "3.8.5"
  }
 },
 "nbformat": 4,
 "nbformat_minor": 1
}